{
 "cells": [
  {
   "cell_type": "markdown",
   "metadata": {},
   "source": [
    "# Assignment2\n",
    "## CS-5891-01 Special Topics Deep Learning\n",
    "## Ronald Picard\n",
    "\n",
    "In this notebook we will walk through the design, training, and testing of a neural network with one nueron. This nueral network will be used for logistic regression, which is an archaic name for binary classification.\n",
    "\n",
    "The binary classification will be performed on images of handwritten numerical digits. More specifically, the last numerical digit of my student ID. This digit happens to be 9. Therefore, the goal of our neural network will be to output a the value of 1 when the handwritten numerical digit image input is a 9, and 0 in all other cases.\n",
    "\n",
    "The data set we will be using is the MNIST data set. This is a very popular data set amoung the machine learning community. The data set contains 60,000 images, and each image contains a handwritten numerical digit. Each of the images have been provided with a truth label that corresponds to the handwritten digit within the image from the set {0, 1, 2, 3, 4, 5, 6, 7, 8, 9}. \n",
    "\n",
    "For our case, we only care about when the image is 9. Therefore we will need to re-label the truth labels so that all truth labels with the value of 9 are given to the value of 1, and all other truth labels are given the value of 0. \n",
    "\n",
    "To start we need to import some needed classes."
   ]
  },
  {
   "cell_type": "code",
   "execution_count": 1,
   "metadata": {},
   "outputs": [],
   "source": [
    "import os\n",
    "import numpy as np\n",
    "import struct\n",
    "from mpl_toolkits.mplot3d import Axes3D\n",
    "import matplotlib.pyplot as pyplot\n",
    "import csv\n",
    "import time"
   ]
  },
  {
   "cell_type": "markdown",
   "metadata": {},
   "source": [
    "First, we must change our path string to the path of our data file containing the features. (Please note that you must change this string to point to the directory with the data file on your machine data file on your machine.) \n",
    "\n",
    "Second, we much change the string name of the data files to the names of the MNIST data files. (Please note that you may NOT need to change these. Only change them if your MINST data files are named differently.)"
   ]
  },
  {
   "cell_type": "code",
   "execution_count": 2,
   "metadata": {},
   "outputs": [],
   "source": [
    "## path\n",
    "path = 'C:/Users/computer/OneDrive - Vanderbilt/Vanderbilt_Spring_2019/CS_5891_01_SpecialTopicsDeepLearning/Assignment2/'\n",
    "\n",
    "#Train data\n",
    "fname_train_images = os.path.join(path, 'train-images.idx3-ubyte')  # the training set image file path\n",
    "fname_train_labels = os.path.join(path, 'train-labels.idx1-ubyte')  # the training set label file path"
   ]
  },
  {
   "cell_type": "markdown",
   "metadata": {},
   "source": [
    "Next, we retrieve the data from the data files as follows. This imports the data into a feature tensor (3-D matrix) in which each index is a feature matrix corresponding to an image. The label data comes in the form of a vector where each index corresponds to the index of the feature matrix (image) of the feature tensor.  "
   ]
  },
  {
   "cell_type": "code",
   "execution_count": 3,
   "metadata": {},
   "outputs": [
    {
     "name": "stdout",
     "output_type": "stream",
     "text": [
      "The training set contains 60000 images\n",
      "The shape of the image is (28, 28)\n"
     ]
    }
   ],
   "source": [
    "# open the label file and load it to the \"train_labels\"\n",
    "with open(fname_train_labels, 'rb') as flbl:\n",
    "    magic, num = struct.unpack(\">II\", flbl.read(8))\n",
    "    labels = np.fromfile(flbl, dtype=np.uint8)\n",
    "\n",
    "# open the image file and load it to the \"train_images\"\n",
    "with open(fname_train_images, 'rb') as fimg:\n",
    "    magic, num, rows, cols = struct.unpack(\">IIII\", fimg.read(16))\n",
    "    images = np.fromfile(fimg, dtype=np.uint8).reshape(len(labels), rows, cols)\n",
    "\n",
    "print('The training set contains', len(images), 'images')  # print the how many images contained in the training set\n",
    "print('The shape of the image is', images[0].shape)  # print the shape of the image"
   ]
  },
  {
   "cell_type": "markdown",
   "metadata": {},
   "source": [
    "Next, we need to perform both two steps; feature scaling and feature normalization. Feature scaling consists of converting the 28 X 28 image matrices into 784 X 1 feature vectors. In essence we will flatten the images out into vectors so that we can use an input a vector to our single neuron. Feature normalization is a process of normalizing the pixel data to between 0 <= x <= 1 (for logistic regression). Each pixel comes on a scale of 0 <= x <= 255. Since 255 is the maximum for every pixel we shall divide each pixel by that number (elementwise) in order to normalize each pixel to between 0 and 1 (inclusive).\n",
    "\n",
    "One additional item we need to take care of is relabeling our label (truth) data so that we have a binary classification in which all 9s are converted to 1s and all other labels are converted to 0."
   ]
  },
  {
   "cell_type": "code",
   "execution_count": 4,
   "metadata": {},
   "outputs": [
    {
     "name": "stdout",
     "output_type": "stream",
     "text": [
      "(784, 60000)\n",
      "(784, 60000)\n",
      "60000\n"
     ]
    }
   ],
   "source": [
    "# feature scaling\n",
    "matrix_side_length = len(images[0])\n",
    "vector_size = matrix_side_length*matrix_side_length\n",
    "\n",
    "scaled_images_feature_matrix = []\n",
    "for image in images:\n",
    "    reshaped_image = np.array(image).reshape((vector_size))\n",
    "    scaled_images_feature_matrix.append(reshaped_image)\n",
    "\n",
    "# convert to numpy array\n",
    "scaled_images_feature_matrix = np.transpose(np.array(scaled_images_feature_matrix))\n",
    "print(scaled_images_feature_matrix.shape) # scaled_images_feature_matrix is a matrix of 60000 X 784\n",
    "#print(scaled_images_feature_matrix[0].shape)\n",
    "\n",
    "# feature normilization\n",
    "normilization_factor = 1/255\n",
    "normalized_scaled_images_feature_matrix = np.multiply(normilization_factor, scaled_images_feature_matrix)\n",
    "print(normalized_scaled_images_feature_matrix.shape)\n",
    "#print(normalized_scaled_images_feature_matrix[0])\n",
    "\n",
    "# re-label for binary classification\n",
    "value_for_1 = 9\n",
    "binary_labels = []\n",
    "for label in labels:\n",
    "    if(label == 9):\n",
    "        binary_labels.append(1)\n",
    "    else:\n",
    "        binary_labels.append(0)\n",
    "\n",
    "# convert to numpy array\n",
    "binary_labels = np.array(binary_labels)\n",
    "print(len(binary_labels)) # binary_labels is a row vector of 1 X 60000\n",
    "#print(binary_labels[0])\n"
   ]
  },
  {
   "cell_type": "markdown",
   "metadata": {},
   "source": [
    "In order to test the efficacy of our nueral network, we need to split up the our label data into two data sets; a smaller and a larger one. The larger set will be the training data that we will use to train our nueral network on. The smaller set will be the testing data that we will used to test the accuracy of our nueral net. The MNIST data set contains 60,000 images. Therefore, we will use 50,000 images for our training data set, and 10,000 images for our testing data set. \n",
    "\n",
    "It is common practice to use a smaller subset of the total data set to debug and tune hyper-parameters before using the entire time-comsuming data set. This smaller subset is known as a validation set. Therefore, we will first use a validation data set of 600 images. 500 of these images will be used for as our training data set, and the other 100 of these images will be used for our test data set. This validation set step is not nessesary with our single-neuron network, but we will do it for completeness sake; however, after our network is working we won't waste time on tuning hyper-parameters with this validation set, because in this case our full data set will run quickly as well. \n",
    "\n",
    "Thus, we will begin by sifting out a validation set from our total data set."
   ]
  },
  {
   "cell_type": "code",
   "execution_count": 5,
   "metadata": {},
   "outputs": [
    {
     "name": "stdout",
     "output_type": "stream",
     "text": [
      "(784, 500)\n",
      "(500,)\n",
      "(784, 100)\n",
      "(100,)\n"
     ]
    }
   ],
   "source": [
    "# create a validation data set\n",
    "size = vector_size\n",
    "\n",
    "number_of_testing_images = 100\n",
    "number_of_training_images = 500\n",
    "number_of_validation_images = number_of_testing_images + number_of_training_images\n",
    "\n",
    "validation_training_images = []\n",
    "validation_training_labels = []\n",
    "validation_testing_images = []\n",
    "validation_testing_labels = []\n",
    "\n",
    "for index in range(0, number_of_validation_images):\n",
    "    if(index <= number_of_training_images - 1):\n",
    "        validation_training_images.append(normalized_scaled_images_feature_matrix[:, index])        \n",
    "        validation_training_labels.append(binary_labels[index])\n",
    "    else:\n",
    "        validation_testing_images.append(normalized_scaled_images_feature_matrix[:, index])        \n",
    "        validation_testing_labels.append(binary_labels[index])\n",
    "        \n",
    "# covert to numpy array\n",
    "validation_training_images = np.transpose(np.array(validation_training_images))\n",
    "validation_training_labels = np.array(validation_training_labels)\n",
    "validation_testing_images = np.transpose(np.array(validation_testing_images))\n",
    "validation_testing_labels = np.array(validation_testing_labels)\n",
    "\n",
    "# logger\n",
    "print(validation_training_images.shape) # validation_training_images is a matrix of 784 X 500\n",
    "print(validation_training_labels.shape) # validation_testing_labels is a row vector of 1 X 500\n",
    "print(validation_testing_images.shape) # validation_training_images is a matrix of 784 X 100\n",
    "print(validation_testing_labels.shape)  # validation_testing_labels is a row vector of 1 X 100"
   ]
  },
  {
   "cell_type": "markdown",
   "metadata": {},
   "source": [
    "Now we move on to the training of our single-neuron neural network. \n",
    "\n",
    "Part 1 - Feed Forword:\n",
    "\n",
    "For this neural network we will stick with a simple model of one nueral. This nueron will have an input of a matrix (784 X number_of_images) of vectorized images of 784 X 1, and will output a row vector of probabilities which we will convert into binary classifications of 0 or 1. (If P(x) >= 0.5 then we will convert it to a 1, otherwise we will convert to 0.) The model of the neuron will be a vecorized linear model Y = W^T * X + B, where W is a vector of parameter weights, X is the input matrix of vectorized images, and B is a row vector of bias's. (Note: in this case, b will be scalar that applied in a broadcasing manner to save on memory.) The output row vector of this linear model will be subject to an elementwise sigmoid activation function. The sigmoid activation function is A = sigma(Z) = 1/(1 - e^-Z), where Z = Y. The resultant row vector will then be used to calculate the cost function values in an elementwise manner. The cost function for this binary classification will be L(Y_Predicted, Y_Label) = -Y_Label * Log(A) - (1-Y_Predicted) * Log(1-A), where Y_Label is the True Label, Y_Predicted is the probability value predicted by the nueral network, and A is the activation function value. The resultant cost row vector will be added up and divided by the number of elements in order to calculate the average cost. \n",
    "\n",
    "Part 2 - Back Propogation:\n",
    "\n",
    "The back propogation technique that we will use for training the nueral network, will be gradient descent. This involes utiling the gradient of the cost function to updated our model parameters. In order to calculate the gradient we will utilize the chain rule. The goal of back propogation is the adjust the parameter weights and bias's of our model to accurately perform binary classification. In general the chain rule can be used to find the gradient of these cost function (vecorzied rates of change) with respect to the model parameters. The following is the chain that we will utilize. Note that it is in the form of scalar cases, but we will utilized a vectorized verion.\n",
    "\n",
    "dl(a, y)/dw = dl(a, y)/da * da/dz * dz/w \n",
    "\n",
    "dl(a, y)/db = dl(a, y)/da * da/dz * dz/b\n",
    "\n",
    "\n",
    "\n",
    "The partial derivative of the cost function with respect to the activation function is found by the following:\n",
    "\n",
    "dl(a, y)/da = -y/a + (1-y)/(1-a).\n",
    "\n",
    "\n",
    "\n",
    "Due to the chain rule, the derivative of the cost function with respect to the linear model z (where z = y) is found by the following:\n",
    "\n",
    "dl(a, y)/dz = dL(a, y)/da * da/dz.\n",
    "\n",
    "The derivative of the sigmoid activation function is da/dz is found by the following:\n",
    "\n",
    "da/dz = sigma(z) = sigma(z) * (1-sigma(z))\n",
    "\n",
    "Therefore the derivative of the cost function with respect to the output of the linear model is found by the following:\n",
    "\n",
    "dl(a, y)/da * da/dz = (-y/a + (1-y)/(1-a)) * (sigma(z) * (1-sigma(z))) = a-y. (For convienence we will say dz = a-y.)\n",
    "\n",
    "\n",
    "\n",
    "Now we can extrapolate the chain rule to all the way to the paramters of the linear model.\n",
    "\n",
    "dl(a, y)/dw = dl(a, y)/da * da/dz * dz/w = dL(a, y)/da * da/dz * x = dz * x = x * dz (we will change our notation to dw = x * dz for convienence)\n",
    "\n",
    "dl(a, y)/db = dl(a, y)/da * da/dz * dz/b = dz * 1 = dz (we will change our notation to db = dz for convienence)\n",
    "\n",
    "\n",
    "\n",
    "Now we can set up the vectorized version of our gradient, then take the average of dw and db.\n",
    "\n",
    "dZ = A - Y^T, where A is a row vector of activation function output, and Y is the vector of truth labels.\n",
    "\n",
    "dW = 1/m * (X * dZ^T), where X is our feature matrix of vectorized images, and dZ is a vector of the rate of change of our cost function with respect to the activation function, and m is the number of elements in the resultant vector.\n",
    "\n",
    "dB = 1/m * sum(dZ), where dZ is the rate of change of our cost function with respect to the activation function.\n",
    "\n",
    "Finally, we will multiple our gradient transposed parameter row vectors by our learning rate and then subtract this from our parameter vectors.\n",
    "\n",
    "W:= W - alpha * dW^T\n",
    "\n",
    "W:= B - alpha * dB^T"
   ]
  },
  {
   "cell_type": "markdown",
   "metadata": {},
   "source": [
    "The first thing we have have to do is initialize our weights and bias's. The weights and bias's will initialized to 0.01. This was choosen pseudo-randomly.  "
   ]
  },
  {
   "cell_type": "code",
   "execution_count": 6,
   "metadata": {},
   "outputs": [
    {
     "name": "stdout",
     "output_type": "stream",
     "text": [
      "(784,)\n"
     ]
    }
   ],
   "source": [
    "# initialize weights & bias\n",
    "initial_value = .01\n",
    "W = np.multiply(initial_value, np.ones(size))\n",
    "b = initial_value # b will be added in a broadcasting manner\n",
    "\n",
    "print(W.shape) # W is a vector with a size of 784"
   ]
  },
  {
   "cell_type": "markdown",
   "metadata": {},
   "source": [
    "Now we implement our gradient descent algorithm."
   ]
  },
  {
   "cell_type": "code",
   "execution_count": 7,
   "metadata": {},
   "outputs": [
    {
     "data": {
      "image/png": "[encoded data removed]",
      "text/plain": [
       "<Figure size 432x288 with 1 Axes>"
      ]
     },
     "metadata": {
      "needs_background": "light"
     },
     "output_type": "display_data"
    }
   ],
   "source": [
    "# gradient descent\n",
    "\n",
    "# hyber-parameters\n",
    "alpha = 0.1;\n",
    "number_of_iterations = 100\n",
    "\n",
    "# data arrays\n",
    "cost_array = []\n",
    "interation_array = []\n",
    "\n",
    "# rename\n",
    "X = validation_training_images\n",
    "Y = validation_training_labels\n",
    "m = size\n",
    "\n",
    "# main loop\n",
    "for interation in range(1, number_of_iterations):\n",
    "    \n",
    "    # forward propogation\n",
    "    Z = np.dot(np.transpose(W), X) + b # Linear Model # Z is 1X500 # broadcasting is used\n",
    "    A = 1/(1 + np.exp(-Z)) # sigmoid(Z) # A is 1X500 # broadcasting is used \n",
    "    term1 = np.multiply(-Y, np.log(A)) # -Y * log(A) # broadcasting is used \n",
    "    term2 = np.multiply((1 - Y), np.log(1 - A)) # (1-Y) * log(1-A) # broadcasting is used \n",
    "    L = term1 - term2 # loss function # l is 1X500\n",
    "    cost = np.multiply(1/m, np.sum(L)) # cost # scalar\n",
    "    \n",
    "    # storage for plotting\n",
    "    cost_array.append(cost)\n",
    "    interation_array.append(interation)\n",
    "    \n",
    "    # backpropogation\n",
    "    dZ = A - Y # dZ is 1X500\n",
    "    dW = np.multiply(1/m, np.dot(X, np.transpose(dZ))) # dW is 784X1\n",
    "    db = np.multiply(1/m, np.sum(dZ)) # db is a scalar\n",
    "    \n",
    "    # paramter updates\n",
    "    W = W - np.multiply(alpha, dW)\n",
    "    b = b - np.multiply(alpha, db)\n",
    "    \n",
    "    \n",
    "# plot learning curve\n",
    "pyplot.figure()\n",
    "pyplot.plot(interation_array, cost_array, 'red')\n",
    "pyplot.title('Learning Curve - 500 MNIST Validation Training Data Set')\n",
    "pyplot.xlabel('Iterations')\n",
    "pyplot.ylabel('Cost')\n",
    "pyplot.show()"
   ]
  },
  {
   "cell_type": "markdown",
   "metadata": {},
   "source": [
    "As shown, our validation set worked, so now we can move on to the full data set.\n",
    "\n",
    "First, we need to split up our full data set into testing and training data. We will use 50,000 images as the training data set and 10,000 images as the testing data set. "
   ]
  },
  {
   "cell_type": "code",
   "execution_count": 14,
   "metadata": {},
   "outputs": [
    {
     "name": "stdout",
     "output_type": "stream",
     "text": [
      "(784, 50000)\n",
      "(50000,)\n",
      "(784, 10000)\n",
      "(10000,)\n"
     ]
    }
   ],
   "source": [
    "# separate the data set\n",
    "nbr_of_testing_images = 10000\n",
    "nbr_of_training_images = 50000\n",
    "nbr_of_images = nbr_of_testing_images + nbr_of_training_images\n",
    "\n",
    "training_images = []\n",
    "training_labels = []\n",
    "testing_images = []\n",
    "testing_labels = []\n",
    "\n",
    "for index in range(0, nbr_of_images):\n",
    "    if(index <= nbr_of_training_images - 1):\n",
    "        training_images.append(normalized_scaled_images_feature_matrix[:, index])        \n",
    "        training_labels.append(binary_labels[index])\n",
    "    else:\n",
    "        testing_images.append(normalized_scaled_images_feature_matrix[:, index])        \n",
    "        testing_labels.append(binary_labels[index])\n",
    "        \n",
    "# covert to numpy array\n",
    "training_images = np.transpose(np.array(training_images))\n",
    "training_labels = np.array(training_labels)\n",
    "testing_images = np.transpose(np.array(testing_images))\n",
    "testing_labels = np.array(testing_labels)\n",
    "\n",
    "# logger\n",
    "print(training_images.shape) # training_images is a matrix of 784 X 50000\n",
    "print(training_labels.shape) # testing_labels is a row vector of 1 X 50000\n",
    "print(testing_images.shape) # training_images is a matrix of 784 X 10000\n",
    "print(testing_labels.shape)  # testing_labels is a row vector of 1 X 10000"
   ]
  },
  {
   "cell_type": "markdown",
   "metadata": {},
   "source": [
    "Now we must reset out weights and bias's."
   ]
  },
  {
   "cell_type": "code",
   "execution_count": 15,
   "metadata": {},
   "outputs": [
    {
     "name": "stdout",
     "output_type": "stream",
     "text": [
      "(784,)\n"
     ]
    }
   ],
   "source": [
    "# initialize weights & bias\n",
    "initial_value = .1\n",
    "W = np.multiply(initial_value, np.ones(size))\n",
    "b = initial_value # b will be added in a broadcasting manner\n",
    "\n",
    "print(W.shape) # W is a vector with a size of 784"
   ]
  },
  {
   "cell_type": "markdown",
   "metadata": {},
   "source": [
    "Now we re-run gradient decent on the full data set.\n",
    "\n",
    "We will also collected data on the accuracy of our network as a function of training iterations. To do this we will need to find the number of inaccuracate binary classifications (false positives & false negatives). This will be acommplished used our test data set. We will send our test data set through the network and compare the results with the true labels of the test data set. "
   ]
  },
  {
   "cell_type": "code",
   "execution_count": 17,
   "metadata": {
    "scrolled": true
   },
   "outputs": [
    {
     "name": "stdout",
     "output_type": "stream",
     "text": [
      "Final Cost: 7.367329980635536\n",
      "Final Percent Accuracy: 96.4\n"
     ]
    },
    {
     "data": {
      "image/png": "[encoded data removed]",
      "text/plain": [
       "<Figure size 432x288 with 1 Axes>"
      ]
     },
     "metadata": {
      "needs_background": "light"
     },
     "output_type": "display_data"
    },
    {
     "data": {
      "image/png": "[encoded data removed]",
      "text/plain": [
       "<Figure size 432x288 with 1 Axes>"
      ]
     },
     "metadata": {
      "needs_background": "light"
     },
     "output_type": "display_data"
    }
   ],
   "source": [
    "# gradient descent\n",
    "\n",
    "# hyber-parameters\n",
    "alpha = 0.01;\n",
    "number_of_iterations =300\n",
    "\n",
    "# data arrays\n",
    "cost_array = []\n",
    "interation_array = []\n",
    "accuracy_array = []\n",
    "\n",
    "# rename\n",
    "X = training_images\n",
    "Y = training_labels\n",
    "m = size\n",
    "\n",
    "# main loop\n",
    "for interation in range(1, number_of_iterations):\n",
    "    \n",
    "    # forward propogation training data set\n",
    "    Z = np.dot(np.transpose(W), X) + b # Linear Model # Z is 1X50000 # broadcasting is used\n",
    "    A = 1/(1 + np.exp(-Z)) # sigmoid(Z) # A is 1X50000 # broadcasting is used \n",
    "    term1 = np.multiply(-Y, np.log(A)) # -Y * log(A) # broadcasting is used \n",
    "    term2 = np.multiply((1 - Y), np.log(1 - A)) # (1-Y) * log(1-A) # broadcasting is used \n",
    "    L = term1 - term2 # loss function # l is 1X50000\n",
    "    cost = np.multiply(1/m, np.sum(L)) # cost # scalar    \n",
    "    \n",
    "        \n",
    "    # forward propogation test data set\n",
    "    Z_test = np.dot(np.transpose(W), testing_images) + b # Linear Model # Z is 1X50000 # broadcasting is used\n",
    "    A_test = 1/(1 + np.exp(-Z_test)) # sigmoid(Z) # A is 1X50000 # broadcasting is used \n",
    "    \n",
    "    # accuracy\n",
    "    prediction_labels = np.where(A_test >= 0.5, 1, 0) # if greater than ore equal to 0.5 use 1, else 0\n",
    "    accuracy = np.sum(np.absolute(testing_labels - prediction_labels)) # Sum of false positives and false negatives # accuracy is scalar   \n",
    "    percent_inaccurate = np.multiply(100/len(testing_labels), accuracy)\n",
    "    percent_accurate = 100 - percent_inaccurate\n",
    "    \n",
    "    # storage for plotting\n",
    "    cost_array.append(cost)\n",
    "    accuracy_array.append(percent_accurate)\n",
    "    interation_array.append(interation)\n",
    "    \n",
    "    # backpropogation\n",
    "    dZ = A - Y # dZ is 1X500\n",
    "    dW = np.multiply(1/m, np.dot(X, np.transpose(dZ))) # dW is 784X1\n",
    "    db = np.multiply(1/m, np.sum(dZ)) # db is a scalar\n",
    "    \n",
    "    # paramter updates\n",
    "    W = W - np.multiply(alpha, dW)\n",
    "    b = b - np.multiply(alpha, db)\n",
    "\n",
    "# forward propogation training data set\n",
    "Z = np.dot(np.transpose(W), X) + b # Linear Model # Z is 1X50000 # broadcasting is used\n",
    "A = 1/(1 + np.exp(-Z)) # sigmoid(Z) # A is 1X50000 # broadcasting is used \n",
    "term1 = np.multiply(-Y, np.log(A)) # -Y * log(A) # broadcasting is used \n",
    "term2 = np.multiply((1 - Y), np.log(1 - A)) # (1-Y) * log(1-A) # broadcasting is used \n",
    "L = term1 - term2 # loss function # l is 1X50000\n",
    "cost = np.multiply(1/m, np.sum(L)) # cost # scalar   \n",
    "\n",
    "# forward propogation test data set\n",
    "Z_test = np.dot(np.transpose(W), testing_images) + b # Linear Model # Z is 1X50000 # broadcasting is used\n",
    "A_test = 1/(1 + np.exp(-Z_test)) # sigmoid(Z) # A is 1X50000 # broadcasting is used \n",
    "\n",
    "# final accuracy\n",
    "prediction_labels = np.where(A_test >= 0.5, 1, 0) # if greater than ore equal to 0.5 use 1, else 0\n",
    "accuracy = np.sum(np.absolute(testing_labels - prediction_labels)) # Sum of false positives and false negatives # accuracy is scalar   \n",
    "percent_inaccurate = np.multiply(100/len(testing_labels), accuracy)\n",
    "percent_accurate = 100 - percent_inaccurate\n",
    "\n",
    "# storage for plotting\n",
    "cost_array.append(cost)\n",
    "accuracy_array.append(percent_accurate)\n",
    "interation_array.append(number_of_iterations + 1)\n",
    "    \n",
    "print('Final Cost: ' + str(cost))\n",
    "print('Final Percent Accuracy: ' + str(percent_accurate))\n",
    "\n",
    "# plot learning curve\n",
    "pyplot.figure()\n",
    "pyplot.plot(interation_array, cost_array, 'red')\n",
    "pyplot.title('Learning Curve - 50,000 MNIST Training Data Set')\n",
    "pyplot.xlabel('Iterations')\n",
    "pyplot.ylabel('Cost')\n",
    "pyplot.show()\n",
    "\n",
    "# plot percent accuracy curve\n",
    "pyplot.figure()\n",
    "pyplot.plot(interation_array, accuracy_array, 'red')\n",
    "pyplot.title('Percent Accuracy Curve - 10,000 MNIST Test Data Set')\n",
    "pyplot.xlabel('Iterations')\n",
    "pyplot.ylabel('Percent Accuracy')\n",
    "pyplot.show()"
   ]
  },
  {
   "cell_type": "markdown",
   "metadata": {},
   "source": [
    "As illustrated, the learning curve flattens out (pesudo-plateau's) at apprximately 8.51270 after 100 training iterations, but adjusts very little after just a few iterations. The percent accuracy initially dramatically increases, then decreases a little bit, then steadly increases assomototically to approximately 95.88% after 100 training iteration. This is reasonable considering that we only have one neuron in our network.\n",
    "\n",
    "Now we will run through some examples classifications in the network. We will find one true positive, one true negative, one false positive, and one false negative."
   ]
  },
  {
   "cell_type": "code",
   "execution_count": 11,
   "metadata": {},
   "outputs": [
    {
     "name": "stdout",
     "output_type": "stream",
     "text": [
      "True Negative Found: True Label: 0 Predicted: 0, @ Test Data Index: 0, Size; (1, 28, 28)\n"
     ]
    },
    {
     "data": {
      "image/png": "[encoded data removed]",
      "text/plain": [
       "<Figure size 432x288 with 1 Axes>"
      ]
     },
     "metadata": {
      "needs_background": "light"
     },
     "output_type": "display_data"
    },
    {
     "name": "stdout",
     "output_type": "stream",
     "text": [
      "False Negative Found: True Label: 1 Predicted: 0, @ Test Data Index: 3, Size; (1, 28, 28)\n"
     ]
    },
    {
     "data": {
      "image/png": "[encoded data removed]",
      "text/plain": [
       "<Figure size 432x288 with 1 Axes>"
      ]
     },
     "metadata": {
      "needs_background": "light"
     },
     "output_type": "display_data"
    },
    {
     "name": "stdout",
     "output_type": "stream",
     "text": [
      "False Positive Found: True Label: 0 Predicted: 1, @ Test Data Index: 89, Size; (1, 28, 28)\n"
     ]
    },
    {
     "data": {
      "image/png": "[encoded data removed]",
      "text/plain": [
       "<Figure size 432x288 with 1 Axes>"
      ]
     },
     "metadata": {
      "needs_background": "light"
     },
     "output_type": "display_data"
    },
    {
     "name": "stdout",
     "output_type": "stream",
     "text": [
      "True Postitive Found: True Label: 1 Predicted: 1, @ Test Data Index: 304, Size; (1, 28, 28)\n"
     ]
    },
    {
     "data": {
      "image/png": "[encoded data removed]",
      "text/plain": [
       "<Figure size 432x288 with 1 Axes>"
      ]
     },
     "metadata": {
      "needs_background": "light"
     },
     "output_type": "display_data"
    }
   ],
   "source": [
    "true_positive_found = 0\n",
    "true_negative_found = 0\n",
    "false_postitive_found = 0\n",
    "false_negative_found = 0\n",
    "\n",
    "true_positive_example = []\n",
    "true_negative_example = []\n",
    "false_postitive_example = []\n",
    "false_negative_example = []\n",
    "\n",
    "for index in range(0, len(testing_labels)-1):\n",
    "    true_label = testing_labels[index]\n",
    "    predicted_label = prediction_labels[index]\n",
    "    #print('True Label: ' + str(true_label))\n",
    "    #print('Predicted Label: ' + str(predicted_label))\n",
    "    if(false_negative_found and false_postitive_found and true_positive_found and true_negative_found):\n",
    "        break\n",
    "    elif(not false_negative_found and true_label == 1 and predicted_label == 0):\n",
    "        false_negative_found = 1\n",
    "        false_negative_example.append(np.array(images[nbr_of_training_images + index]))\n",
    "        print('False Negative Found: True Label: ' + str(true_label) + ' Predicted: ' + str(predicted_label) + ', @ Test Data Index: ' + str(index) + ', Size; ' + str(np.array(false_negative_example).shape))\n",
    "        pyplot.imshow(false_negative_example[0], cmap='gray')  # plot the image in \"gray\" colormap\n",
    "        pyplot.show()\n",
    "    elif(not false_postitive_found and true_label == 0 and predicted_label == 1):\n",
    "        false_postitive_found = 1\n",
    "        false_postitive_example.append(np.array(images[nbr_of_training_images + index]))\n",
    "        print('False Positive Found: True Label: ' + str(true_label) + ' Predicted: ' + str(predicted_label) + ', @ Test Data Index: ' + str(index) + ', Size; ' + str(np.array(false_postitive_example).shape))\n",
    "        pyplot.imshow(false_postitive_example[0], cmap='gray')  # plot the image in \"gray\" colormap\n",
    "        pyplot.show()\n",
    "    elif(not true_positive_found and true_label == 1 and predicted_label == 1):\n",
    "        true_positive_found = 1\n",
    "        true_positive_example.append(np.array(images[nbr_of_training_images + index]))\n",
    "        print('True Postitive Found: True Label: ' + str(true_label) + ' Predicted: ' + str(predicted_label) + ', @ Test Data Index: ' + str(index) + ', Size; ' + str(np.array(true_positive_example).shape))\n",
    "        pyplot.imshow(true_positive_example[0], cmap='gray')  # plot the image in \"gray\" colormap\n",
    "        pyplot.show()\n",
    "    elif(not true_negative_example and true_label == 0 and predicted_label == 0):\n",
    "        true_negative_found = 1\n",
    "        true_negative_example.append(np.array(images[nbr_of_training_images + index]))\n",
    "        print('True Negative Found: True Label: ' + str(true_label) + ' Predicted: ' + str(predicted_label) + ', @ Test Data Index: ' + str(index) + ', Size; ' + str(np.array(true_negative_example).shape))\n",
    "        pyplot.imshow(true_negative_example[0], cmap='gray')  # plot the image in \"gray\" colormap\n",
    "        pyplot.show()         "
   ]
  },
  {
   "cell_type": "markdown",
   "metadata": {},
   "source": [
    "As illustrated above, we have found one of each possible case; True Negative, True Postitive, False Positive, False Negative. Recall that our truth values are 1 for images with a 9, and 0 in all other cases.\n",
    "\n",
    "The true negative image shown above is of a 3. Since 3 is not 9, the true label for the image is 0, and the neural network correctly classified it as such.\n",
    "\n",
    "The true positive image shown above is of a 9. The true label for 9 is 1, and the neuarl network correctly classified it as such.\n",
    "\n",
    "The false positive image shown above is of a 7. Since 7 is not 9, the true label for the image is 0. However, the nueral network incorrectly classified this image as a 9, thus predicted a 1. This inaccurate classification is relatively understandable since we have a simple single-neuron neural network and the the 7 in this image is bent so that it's features are more similar to a 9 than to a written 7. \n",
    "\n",
    "The false negative image shown about is an image of a 9. The true label for a 9 is 1. However, our neural network inccorectly classified this image as 'not a 9'. It is not easily possible to know exactly why this occured but our intuition can tell us a couple things. First, we are using a simple single-neuron neural network, so it is generally understandable that it will not be 100% accurate. In fact no nueral network is truly 100% accurate; at least philosophically. Second, we can see in this image that the 9 is round and could potentially be mistaken for a 3 or 0. "
   ]
  },
  {
   "cell_type": "markdown",
   "metadata": {},
   "source": [
    "Now that we have a good model we would like to investigate the impact of the accuracy of our network to lowing the training data size. In order to do some a comparision with our results above we will use 10,000 images for training now, but still use 10,000 images for testing. This will reveal what our results are when we have a much smaller training data set. "
   ]
  },
  {
   "cell_type": "code",
   "execution_count": 12,
   "metadata": {},
   "outputs": [
    {
     "name": "stdout",
     "output_type": "stream",
     "text": [
      "Final Cost: 2.272081920095334\n",
      "Final Percent Accuracy: 92.72\n"
     ]
    },
    {
     "data": {
      "image/png": "[encoded data removed]",
      "text/plain": [
       "<Figure size 432x288 with 1 Axes>"
      ]
     },
     "metadata": {
      "needs_background": "light"
     },
     "output_type": "display_data"
    },
    {
     "data": {
      "image/png": "[encoded data removed]",
      "text/plain": [
       "<Figure size 432x288 with 1 Axes>"
      ]
     },
     "metadata": {
      "needs_background": "light"
     },
     "output_type": "display_data"
    }
   ],
   "source": [
    "# separate the data set\n",
    "nbr_of_testing_images = 10000\n",
    "nbr_of_training_images = 10000\n",
    "nbr_of_images = nbr_of_testing_images + nbr_of_training_images\n",
    "\n",
    "training_images = []\n",
    "training_labels = []\n",
    "testing_images = []\n",
    "testing_labels = []\n",
    "\n",
    "for index in range(0, nbr_of_images):\n",
    "    if(index <= nbr_of_training_images - 1):\n",
    "        training_images.append(normalized_scaled_images_feature_matrix[:, index])        \n",
    "        training_labels.append(binary_labels[index])\n",
    "    else:\n",
    "        testing_images.append(normalized_scaled_images_feature_matrix[:, index])        \n",
    "        testing_labels.append(binary_labels[index])\n",
    "        \n",
    "# covert to numpy array\n",
    "training_images = np.transpose(np.array(training_images))\n",
    "training_labels = np.array(training_labels)\n",
    "testing_images = np.transpose(np.array(testing_images))\n",
    "testing_labels = np.array(testing_labels)\n",
    "\n",
    "# logger\n",
    "#print(training_images.shape) # training_images is a matrix of 784 X 50000\n",
    "#print(training_labels.shape) # testing_labels is a row vector of 1 X 50000\n",
    "#print(testing_images.shape) # training_images is a matrix of 784 X 10000\n",
    "#print(testing_labels.shape)  # testing_labels is a row vector of 1 X 10000\n",
    "\n",
    "# initialize weights & bias\n",
    "initial_value = .1\n",
    "W = np.multiply(initial_value, np.ones(size))\n",
    "b = initial_value # b will be added in a broadcasting manner\n",
    "\n",
    "#print(W.shape) # W is a vector with a size of 784\n",
    "\n",
    "# gradient descent\n",
    "\n",
    "# hyber-parameters\n",
    "alpha = 0.01;\n",
    "number_of_iterations = 100\n",
    "\n",
    "# data arrays\n",
    "cost_array = []\n",
    "interation_array = []\n",
    "accuracy_array = []\n",
    "\n",
    "# rename\n",
    "X = training_images\n",
    "Y = training_labels\n",
    "m = size\n",
    "\n",
    "# main loop\n",
    "for interation in range(1, number_of_iterations):\n",
    "    \n",
    "    # forward propogation training data set\n",
    "    Z = np.dot(np.transpose(W), X) + b # Linear Model # Z is 1X50000 # broadcasting is used\n",
    "    A = 1/(1 + np.exp(-Z)) # sigmoid(Z) # A is 1X50000 # broadcasting is used \n",
    "    term1 = np.multiply(-Y, np.log(A)) # -Y * log(A) # broadcasting is used \n",
    "    term2 = np.multiply((1 - Y), np.log(1 - A)) # (1-Y) * log(1-A) # broadcasting is used \n",
    "    L = term1 - term2 # loss function # l is 1X50000\n",
    "    cost = np.multiply(1/m, np.sum(L)) # cost # scalar    \n",
    "    \n",
    "    # forward propogation test data set\n",
    "    Z_test = np.dot(np.transpose(W), testing_images) + b # Linear Model # Z is 1X50000 # broadcasting is used\n",
    "    A_test = 1/(1 + np.exp(-Z_test)) # sigmoid(Z) # A is 1X50000 # broadcasting is used \n",
    "    \n",
    "    # accuracy\n",
    "    prediction_labels = np.where(A_test >= 0.5, 1, 0) # if greater than ore equal to 0.5 use 1, else 0\n",
    "    accuracy = np.sum(np.absolute(testing_labels - prediction_labels)) # Sum of false positives and false negatives # accuracy is scalar   \n",
    "    percent_inaccurate = np.multiply(100/len(testing_labels), accuracy)\n",
    "    percent_accurate = 100 - percent_inaccurate\n",
    "    \n",
    "    # storage for plotting\n",
    "    cost_array.append(cost)\n",
    "    accuracy_array.append(percent_accurate)\n",
    "    interation_array.append(interation)\n",
    "    \n",
    "    # backpropogation\n",
    "    dZ = A - Y # dZ is 1X500\n",
    "    dW = np.multiply(1/m, np.dot(X, np.transpose(dZ))) # dW is 784X1\n",
    "    db = np.multiply(1/m, np.sum(dZ)) # db is a scalar\n",
    "    \n",
    "    # paramter updates\n",
    "    W = W - np.multiply(alpha, dW)\n",
    "    b = b - np.multiply(alpha, db)\n",
    "\n",
    "# forward propogation training data set\n",
    "Z = np.dot(np.transpose(W), X) + b # Linear Model # Z is 1X50000 # broadcasting is used\n",
    "A = 1/(1 + np.exp(-Z)) # sigmoid(Z) # A is 1X50000 # broadcasting is used \n",
    "term1 = np.multiply(-Y, np.log(A)) # -Y * log(A) # broadcasting is used \n",
    "term2 = np.multiply((1 - Y), np.log(1 - A)) # (1-Y) * log(1-A) # broadcasting is used \n",
    "L = term1 - term2 # loss function # l is 1X50000\n",
    "cost = np.multiply(1/m, np.sum(L)) # cost # scalar   \n",
    "\n",
    "# forward propogation test data set\n",
    "Z_test = np.dot(np.transpose(W), testing_images) + b # Linear Model # Z is 1X50000 # broadcasting is used\n",
    "A_test = 1/(1 + np.exp(-Z_test)) # sigmoid(Z) # A is 1X50000 # broadcasting is used \n",
    "\n",
    "# final accuracy\n",
    "prediction_labels = np.where(A_test >= 0.5, 1, 0) # if greater than ore equal to 0.5 use 1, else 0\n",
    "accuracy = np.sum(np.absolute(testing_labels - prediction_labels)) # Sum of false positives and false negatives # accuracy is scalar   \n",
    "percent_inaccurate = np.multiply(100/len(testing_labels), accuracy)\n",
    "percent_accurate = 100 - percent_inaccurate\n",
    "\n",
    "# storage for plotting\n",
    "cost_array.append(cost)\n",
    "accuracy_array.append(percent_accurate)\n",
    "interation_array.append(number_of_iterations + 1)\n",
    "    \n",
    "print('Final Cost: ' + str(cost))\n",
    "print('Final Percent Accuracy: ' + str(percent_accurate))\n",
    "\n",
    "# plot learning curve\n",
    "pyplot.figure()\n",
    "pyplot.plot(interation_array, cost_array, 'red')\n",
    "pyplot.title('Learning Curve - 10,000 MNIST Training Data Set')\n",
    "pyplot.xlabel('Iterations')\n",
    "pyplot.ylabel('Cost')\n",
    "pyplot.show()\n",
    "\n",
    "# plot percent accuracy curve\n",
    "pyplot.figure()\n",
    "pyplot.plot(interation_array, accuracy_array, 'red')\n",
    "pyplot.title('Percent Accuracy Curve - 10,000 MNIST Test Data Set')\n",
    "pyplot.xlabel('Iterations')\n",
    "pyplot.ylabel('Percent Accuracy')\n",
    "pyplot.show()"
   ]
  },
  {
   "cell_type": "markdown",
   "metadata": {},
   "source": [
    "The results reveal what is intuitively expected. The percent accuracy of the network levels-out at around 92.72 percent after 100 iterations, which is less than the percentage we achieved with a larger training data set. This empiracally leads us to conclude that the more training data we have, the higher accuracy we can achieve with our network. "
   ]
  },
  {
   "cell_type": "markdown",
   "metadata": {},
   "source": [
    "One last thing we wish to investigate is how the learning rate impacts our results. In order to test this we will decrease our learning rate to a value of 0.00001. This is a very low value, but we are doing this for testing purposes. We will adjust our training data set back to 50,000 images for a direct comparison to the good result we had earlier."
   ]
  },
  {
   "cell_type": "code",
   "execution_count": 13,
   "metadata": {},
   "outputs": [
    {
     "name": "stdout",
     "output_type": "stream",
     "text": [
      "Final Cost: 481.390470076452\n",
      "Final Percent Accuracy: 9.61\n"
     ]
    },
    {
     "data": {
      "image/png": "[encoded data removed]",
      "text/plain": [
       "<Figure size 432x288 with 1 Axes>"
      ]
     },
     "metadata": {
      "needs_background": "light"
     },
     "output_type": "display_data"
    },
    {
     "data": {
      "image/png": "[encoded data removed]",
      "text/plain": [
       "<Figure size 432x288 with 1 Axes>"
      ]
     },
     "metadata": {
      "needs_background": "light"
     },
     "output_type": "display_data"
    }
   ],
   "source": [
    "# separate the data set\n",
    "nbr_of_testing_images = 10000\n",
    "nbr_of_training_images = 50000\n",
    "nbr_of_images = nbr_of_testing_images + nbr_of_training_images\n",
    "\n",
    "training_images = []\n",
    "training_labels = []\n",
    "testing_images = []\n",
    "testing_labels = []\n",
    "\n",
    "for index in range(0, nbr_of_images):\n",
    "    if(index <= nbr_of_training_images - 1):\n",
    "        training_images.append(normalized_scaled_images_feature_matrix[:, index])        \n",
    "        training_labels.append(binary_labels[index])\n",
    "    else:\n",
    "        testing_images.append(normalized_scaled_images_feature_matrix[:, index])        \n",
    "        testing_labels.append(binary_labels[index])\n",
    "        \n",
    "# covert to numpy array\n",
    "training_images = np.transpose(np.array(training_images))\n",
    "training_labels = np.array(training_labels)\n",
    "testing_images = np.transpose(np.array(testing_images))\n",
    "testing_labels = np.array(testing_labels)\n",
    "\n",
    "# logger\n",
    "#print(training_images.shape) # training_images is a matrix of 784 X 50000\n",
    "#print(training_labels.shape) # testing_labels is a row vector of 1 X 50000\n",
    "#print(testing_images.shape) # training_images is a matrix of 784 X 10000\n",
    "#print(testing_labels.shape)  # testing_labels is a row vector of 1 X 10000\n",
    "\n",
    "# initialize weights & bias\n",
    "initial_value = .1\n",
    "W = np.multiply(initial_value, np.ones(size))\n",
    "b = initial_value # b will be added in a broadcasting manner\n",
    "\n",
    "#print(W.shape) # W is a vector with a size of 784\n",
    "\n",
    "# gradient descent\n",
    "\n",
    "# hyber-parameters\n",
    "alpha = 0.00001;\n",
    "number_of_iterations = 100\n",
    "\n",
    "# data arrays\n",
    "cost_array = []\n",
    "interation_array = []\n",
    "accuracy_array = []\n",
    "\n",
    "# rename\n",
    "X = training_images\n",
    "Y = training_labels\n",
    "m = size\n",
    "\n",
    "# main loop\n",
    "for interation in range(1, number_of_iterations):\n",
    "    \n",
    "    # forward propogation training data set\n",
    "    Z = np.dot(np.transpose(W), X) + b # Linear Model # Z is 1X50000 # broadcasting is used\n",
    "    A = 1/(1 + np.exp(-Z)) # sigmoid(Z) # A is 1X50000 # broadcasting is used \n",
    "    term1 = np.multiply(-Y, np.log(A)) # -Y * log(A) # broadcasting is used \n",
    "    term2 = np.multiply((1 - Y), np.log(1 - A)) # (1-Y) * log(1-A) # broadcasting is used \n",
    "    L = term1 - term2 # loss function # l is 1X50000\n",
    "    cost = np.multiply(1/m, np.sum(L)) # cost # scalar    \n",
    "    \n",
    "    # forward propogation test data set\n",
    "    Z_test = np.dot(np.transpose(W), testing_images) + b # Linear Model # Z is 1X50000 # broadcasting is used\n",
    "    A_test = 1/(1 + np.exp(-Z_test)) # sigmoid(Z) # A is 1X50000 # broadcasting is used \n",
    "    \n",
    "    # accuracy\n",
    "    prediction_labels = np.where(A_test >= 0.5, 1, 0) # if greater than ore equal to 0.5 use 1, else 0\n",
    "    accuracy = np.sum(np.absolute(testing_labels - prediction_labels)) # Sum of false positives and false negatives # accuracy is scalar   \n",
    "    percent_inaccurate = np.multiply(100/len(testing_labels), accuracy)\n",
    "    percent_accurate = 100 - percent_inaccurate\n",
    "    \n",
    "    # storage for plotting\n",
    "    cost_array.append(cost)\n",
    "    accuracy_array.append(percent_accurate)\n",
    "    interation_array.append(interation)\n",
    "    \n",
    "    # backpropogation\n",
    "    dZ = A - Y # dZ is 1X500\n",
    "    dW = np.multiply(1/m, np.dot(X, np.transpose(dZ))) # dW is 784X1\n",
    "    db = np.multiply(1/m, np.sum(dZ)) # db is a scalar\n",
    "    \n",
    "    # paramter updates\n",
    "    W = W - np.multiply(alpha, dW)\n",
    "    b = b - np.multiply(alpha, db)\n",
    "\n",
    "# forward propogation training data set\n",
    "Z = np.dot(np.transpose(W), X) + b # Linear Model # Z is 1X50000 # broadcasting is used\n",
    "A = 1/(1 + np.exp(-Z)) # sigmoid(Z) # A is 1X50000 # broadcasting is used \n",
    "term1 = np.multiply(-Y, np.log(A)) # -Y * log(A) # broadcasting is used \n",
    "term2 = np.multiply((1 - Y), np.log(1 - A)) # (1-Y) * log(1-A) # broadcasting is used \n",
    "L = term1 - term2 # loss function # l is 1X50000\n",
    "cost = np.multiply(1/m, np.sum(L)) # cost # scalar   \n",
    "\n",
    "# forward propogation test data set\n",
    "Z_test = np.dot(np.transpose(W), testing_images) + b # Linear Model # Z is 1X50000 # broadcasting is used\n",
    "A_test = 1/(1 + np.exp(-Z_test)) # sigmoid(Z) # A is 1X50000 # broadcasting is used \n",
    "\n",
    "# final accuracy\n",
    "prediction_labels = np.where(A_test >= 0.5, 1, 0) # if greater than ore equal to 0.5 use 1, else 0\n",
    "accuracy = np.sum(np.absolute(testing_labels - prediction_labels)) # Sum of false positives and false negatives # accuracy is scalar   \n",
    "percent_inaccurate = np.multiply(100/len(testing_labels), accuracy)\n",
    "percent_accurate = 100 - percent_inaccurate\n",
    "\n",
    "# storage for plotting\n",
    "cost_array.append(cost)\n",
    "accuracy_array.append(percent_accurate)\n",
    "interation_array.append(number_of_iterations + 1)\n",
    "    \n",
    "print('Final Cost: ' + str(cost))\n",
    "print('Final Percent Accuracy: ' + str(percent_accurate))\n",
    "\n",
    "# plot learning curve\n",
    "pyplot.figure()\n",
    "pyplot.plot(interation_array, cost_array, 'red')\n",
    "pyplot.title('Learning Curve - 50,000 MNIST Training Data Set')\n",
    "pyplot.xlabel('Iterations')\n",
    "pyplot.ylabel('Cost')\n",
    "pyplot.show()\n",
    "\n",
    "# plot percent accuracy curve\n",
    "pyplot.figure()\n",
    "pyplot.plot(interation_array, accuracy_array, 'red')\n",
    "pyplot.title('Percent Accuracy Curve - 10,000 MNIST Test Data Set')\n",
    "pyplot.xlabel('Iterations')\n",
    "pyplot.ylabel('Percent Accuracy')\n",
    "pyplot.show()"
   ]
  },
  {
   "cell_type": "markdown",
   "metadata": {},
   "source": [
    "The results line up with what we would intuitively expect. First, the cost does decrease but in 100 iterations it still hasn't gotten below approximately 481. This is because our low learning rate causes our parameters values to be updated at a very slow rate; therefore, the values cannot converge within 100 iterations. Second, we see the same issue being present in our accuracy. The final accuracy is about 9.61 percent; which is extremely low. This again points to the fact that with such a small learning the rate the paramter values are not able to converge within 100 iterations. "
   ]
  },
  {
   "cell_type": "markdown",
   "metadata": {},
   "source": [
    "As we can see from these examples, the single neuron neural network is not perfect, but even with this simple model we can achieve decently accurate results if we set our learning rate appropriately and have large enough of a training data set."
   ]
  },
  {
   "cell_type": "markdown",
   "metadata": {},
   "source": [
    "This concludes the assignment."
   ]
  }
 ],
 "metadata": {
  "kernelspec": {
   "display_name": "Python 3",
   "language": "python",
   "name": "python3"
  },
  "language_info": {
   "codemirror_mode": {
    "name": "ipython",
    "version": 3
   },
   "file_extension": ".py",
   "mimetype": "text/x-python",
   "name": "python",
   "nbconvert_exporter": "python",
   "pygments_lexer": "ipython3",
   "version": "3.7.1"
  }
 },
 "nbformat": 4,
 "nbformat_minor": 2
}
